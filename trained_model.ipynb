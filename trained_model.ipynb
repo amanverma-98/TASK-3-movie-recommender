{
 "cells": [
  {
   "cell_type": "markdown",
   "id": "69bdae15",
   "metadata": {},
   "source": [
    "# Importing necessary libraries"
   ]
  },
  {
   "cell_type": "code",
   "execution_count": 1,
   "id": "7a36e439",
   "metadata": {},
   "outputs": [
    {
     "name": "stderr",
     "output_type": "stream",
     "text": [
      "C:\\Users\\Lenovo\\AppData\\Roaming\\Python\\Python310\\site-packages\\fuzzywuzzy\\fuzz.py:11: UserWarning: Using slow pure-python SequenceMatcher. Install python-Levenshtein to remove this warning\n",
      "  warnings.warn('Using slow pure-python SequenceMatcher. Install python-Levenshtein to remove this warning')\n"
     ]
    }
   ],
   "source": [
    "import pandas as pd\n",
    "import numpy as np\n",
    "import ast # To safely convert stringified lists/dictionaries into Python objects\n",
    "from nltk.stem.porter import PorterStemmer # For text normalization\n",
    "from sklearn.feature_extraction.text import TfidfVectorizer # For weighted word counts (TF-IDF)\n",
    "from sklearn.metrics.pairwise import cosine_similarity # To calculate movie similarity\n",
    "from fuzzywuzzy import fuzz # For handling user input typos"
   ]
  },
  {
   "cell_type": "markdown",
   "id": "806d0d65",
   "metadata": {},
   "source": [
    "# Extracting the 'name' value from each dictionary in a JSON string list."
   ]
  },
  {
   "cell_type": "code",
   "execution_count": 2,
   "id": "bb8654fe",
   "metadata": {},
   "outputs": [],
   "source": [
    "def convert(text):\n",
    "    L = []\n",
    "    try:\n",
    "        for item in ast.literal_eval(text):\n",
    "            L.append(item['name'])\n",
    "    except:\n",
    "        return []\n",
    "    return L"
   ]
  },
  {
   "cell_type": "markdown",
   "id": "0989c20c",
   "metadata": {},
   "source": [
    "# Extracting the name of the director from the 'crew' JSON string list"
   ]
  },
  {
   "cell_type": "code",
   "execution_count": 3,
   "id": "4e3dc0ee",
   "metadata": {},
   "outputs": [],
   "source": [
    "def fetch_director(text):\n",
    "    L = []\n",
    "    try:\n",
    "        for item in ast.literal_eval(text):\n",
    "            if item['job'] == 'Director':\n",
    "                L.append(item['name'])\n",
    "                break \n",
    "    except:\n",
    "        pass\n",
    "    return L"
   ]
  },
  {
   "cell_type": "markdown",
   "id": "9edb0e92",
   "metadata": {},
   "source": [
    "# Removing spaces from within individual strings in a list "
   ]
  },
  {
   "cell_type": "code",
   "execution_count": 4,
   "id": "8fd5abb2",
   "metadata": {},
   "outputs": [],
   "source": [
    "def collapse(L):\n",
    "    L1 = []\n",
    "    for i in L:\n",
    "        if isinstance(i, str):\n",
    "            L1.append(i.replace(\" \", \"\"))\n",
    "    return L1"
   ]
  },
  {
   "cell_type": "markdown",
   "id": "88cb4cc7",
   "metadata": {},
   "source": [
    "# Applying stemming to a string of text, reducing words to their root form"
   ]
  },
  {
   "cell_type": "code",
   "execution_count": 5,
   "id": "1c1bf691",
   "metadata": {},
   "outputs": [],
   "source": [
    "ps = PorterStemmer()\n",
    "def stem(text):\n",
    "    y = []\n",
    "    for i in text.split():\n",
    "        y.append(ps.stem(i))\n",
    "    return \" \".join(y)"
   ]
  },
  {
   "cell_type": "markdown",
   "id": "e8207ea9",
   "metadata": {},
   "source": [
    "# Generating movie recommendations using cosine similarity and fuzzy title matching"
   ]
  },
  {
   "cell_type": "code",
   "execution_count": 6,
   "id": "1a061492",
   "metadata": {},
   "outputs": [],
   "source": [
    "def recommend_best(movie_title, df, similarity_matrix):\n",
    "\n",
    "    # 1. Pre-processing input title\n",
    "    search_title = movie_title.lower().strip()\n",
    "\n",
    "    # 2. Performing Fuzzy Matching to find the closest match\n",
    "    title_matches = []\n",
    "    for title in df['title']:\n",
    "        score = fuzz.ratio(search_title, title.lower())\n",
    "        if score > 75: # Slightly stricter threshold for confidence\n",
    "            title_matches.append((title, score))\n",
    "\n",
    "    if not title_matches:\n",
    "        print(f\"Error: Movie '{movie_title}' not found in the dataset or no close match was detected.\")\n",
    "        return\n",
    "\n",
    "    # Selecting the best match based on the highest score\n",
    "    best_match_title = max(title_matches, key=lambda x: x[1])[0]\n",
    "    \n",
    "    # 3. Getting the index of the best matching movie\n",
    "    try:\n",
    "        index = df[df['title'] == best_match_title].index[0]\n",
    "    except IndexError:\n",
    "        print(f\"Error: Could not find index for best match title: '{best_match_title}'\")\n",
    "        return\n",
    "\n",
    "    # 4. Getting the distances, sort them \n",
    "    distances = sorted(list(enumerate(similarity_matrix[index])), reverse=True, key=lambda x: x[1])\n",
    "\n",
    "    # 5. Printing the top 5 recommendations\n",
    "    print(f\"Recommendations for **{best_match_title}**:\")\n",
    "    for i in distances[1:6]:\n",
    "        print(f\" - {df.iloc[i[0]]['title']}\")"
   ]
  },
  {
   "cell_type": "markdown",
   "id": "8f892154",
   "metadata": {},
   "source": [
    "# System Initialization and Feature Vector Build"
   ]
  },
  {
   "cell_type": "code",
   "execution_count": 7,
   "id": "7a5e6d4d",
   "metadata": {},
   "outputs": [],
   "source": [
    "# 1. Loading Data\n",
    "try:\n",
    "    movies = pd.read_csv(\"tmdb_5000_movies.csv\")\n",
    "    credits = pd.read_csv(\"tmdb_5000_credits.csv\")\n",
    "except FileNotFoundError:\n",
    "    print(\"Error: Ensure data files are in the correct directory.\")"
   ]
  },
  {
   "cell_type": "code",
   "execution_count": 8,
   "id": "349125a9",
   "metadata": {},
   "outputs": [],
   "source": [
    "# 2. Merging and Selecting Columns\n",
    "movies = movies.merge(credits, on='title')\n",
    "movies = movies[['movie_id', 'title', 'overview', 'genres', 'keywords', 'cast', 'crew']]"
   ]
  },
  {
   "cell_type": "code",
   "execution_count": 9,
   "id": "d3880aa6",
   "metadata": {},
   "outputs": [],
   "source": [
    "# 3. Cleaning Missing Values and Duplicates\n",
    "movies.dropna(inplace=True)\n",
    "movies.drop_duplicates(inplace=True)"
   ]
  },
  {
   "cell_type": "code",
   "execution_count": 10,
   "id": "512540e5",
   "metadata": {},
   "outputs": [],
   "source": [
    "# 4. Applying JSON Parsing and Formatting\n",
    "movies['genres'] = movies['genres'].apply(convert)\n",
    "movies['keywords'] = movies['keywords'].apply(convert)\n",
    "movies['cast'] = movies['cast'].apply(convert).apply(lambda x: x[0:3]) \n",
    "movies['crew'] = movies['crew'].apply(fetch_director)\n",
    "movies['overview'] = movies['overview'].apply(lambda x: x.split())"
   ]
  },
  {
   "cell_type": "code",
   "execution_count": 11,
   "id": "e84f9653",
   "metadata": {},
   "outputs": [],
   "source": [
    "# 5. Collapsing Spaces\n",
    "movies['cast'] = movies['cast'].apply(collapse)\n",
    "movies['crew'] = movies['crew'].apply(collapse)\n",
    "movies['genres'] = movies['genres'].apply(collapse)\n",
    "movies['keywords'] = movies['keywords'].apply(collapse)"
   ]
  },
  {
   "cell_type": "code",
   "execution_count": 12,
   "id": "4a676fe9",
   "metadata": {},
   "outputs": [],
   "source": [
    "# 6. Creating Weighted 'tags' column \n",
    "movies['tags'] = (\n",
    "    movies['overview'] + \n",
    "    movies['keywords'] + \n",
    "    movies['cast'] + \n",
    "    movies['genres'] * 3 +  # Triple weight for genre\n",
    "    movies['crew'] * 3     # Triple weight for director\n",
    ")"
   ]
  },
  {
   "cell_type": "code",
   "execution_count": 13,
   "id": "d8aa7c3e",
   "metadata": {},
   "outputs": [],
   "source": [
    "# 7. Final DataFrame for Vectorization\n",
    "new_df = movies[['movie_id', 'title', 'tags']].copy()\n",
    "new_df['tags'] = new_df['tags'].apply(lambda x: \" \".join(x))"
   ]
  },
  {
   "cell_type": "code",
   "execution_count": 14,
   "id": "7140ff93",
   "metadata": {},
   "outputs": [],
   "source": [
    "# 8. Applying Stemming to Normalize Tags\n",
    "new_df['tags'] = new_df['tags'].apply(stem)"
   ]
  },
  {
   "cell_type": "code",
   "execution_count": 15,
   "id": "04061e71",
   "metadata": {},
   "outputs": [],
   "source": [
    "# 9. Vectorization (TF-IDF)\n",
    "tfidf = TfidfVectorizer(max_features=5000, stop_words='english')\n",
    "vector = tfidf.fit_transform(new_df['tags']).toarray()"
   ]
  },
  {
   "cell_type": "code",
   "execution_count": 16,
   "id": "b70a339f",
   "metadata": {},
   "outputs": [],
   "source": [
    "# 10. Computing Cosine Similarity\n",
    "similarity = cosine_similarity(vector)"
   ]
  },
  {
   "cell_type": "markdown",
   "id": "74fae09b",
   "metadata": {},
   "source": [
    "# Testing the recommendations :"
   ]
  },
  {
   "cell_type": "code",
   "execution_count": 17,
   "id": "8d28c2fe",
   "metadata": {},
   "outputs": [
    {
     "name": "stdout",
     "output_type": "stream",
     "text": [
      "\n",
      "--- Testing Best-in-Class Recommender ---\n",
      "Recommendations for **Avatar**:\n",
      " - Aliens\n",
      " - The Abyss\n",
      " - Terminator 2: Judgment Day\n",
      " - True Lies\n",
      " - The Terminator\n",
      "------------------------------\n",
      "Recommendations for **Batman Begins**:\n",
      " - The Dark Knight\n",
      " - The Dark Knight Rises\n",
      " - The Prestige\n",
      " - Insomnia\n",
      " - Batman\n",
      "------------------------------\n",
      "Recommendations for **The Terminator**:\n",
      " - The Inkwell\n",
      " - Barry Munday\n",
      " - Beginners\n",
      " - Without Men\n",
      " - Divine Secrets of the Ya-Ya Sisterhood\n",
      "------------------------------\n",
      "Recommendations for **The Social Network**:\n",
      " - Gone Girl\n",
      " - The Girl with the Dragon Tattoo\n",
      " - The Curious Case of Benjamin Button\n",
      " - Panic Room\n",
      " - Fight Club\n"
     ]
    }
   ],
   "source": [
    "print(\"\\n--- Testing Best-in-Class Recommender ---\")\n",
    "recommend_best('Avatr', new_df, similarity) # Testing with a typo\n",
    "print(\"-\" * 30)\n",
    "recommend_best('batman begines', new_df, similarity) # Testing with a typo/case\n",
    "print(\"-\" * 30)\n",
    "recommend_best('The Terminator', new_df, similarity) \n",
    "print(\"-\" * 30)\n",
    "recommend_best('The Social Network', new_df, similarity)"
   ]
  }
 ],
 "metadata": {
  "kernelspec": {
   "display_name": "Python 3",
   "language": "python",
   "name": "python3"
  },
  "language_info": {
   "codemirror_mode": {
    "name": "ipython",
    "version": 3
   },
   "file_extension": ".py",
   "mimetype": "text/x-python",
   "name": "python",
   "nbconvert_exporter": "python",
   "pygments_lexer": "ipython3",
   "version": "3.10.0"
  }
 },
 "nbformat": 4,
 "nbformat_minor": 5
}
