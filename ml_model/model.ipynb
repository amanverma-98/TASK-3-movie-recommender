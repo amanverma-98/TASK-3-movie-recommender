{
 "cells": [
  {
   "cell_type": "code",
   "execution_count": 1,
   "id": "7bfc21a1",
   "metadata": {},
   "outputs": [],
   "source": [
    "import pandas as pd\n",
    "\n",
    "df = pd.read_csv('cleaned_movies.csv')"
   ]
  },
  {
   "cell_type": "code",
   "execution_count": 2,
   "id": "0f8c204c",
   "metadata": {},
   "outputs": [
    {
     "data": {
      "text/html": [
       "<div>\n",
       "<style scoped>\n",
       "    .dataframe tbody tr th:only-of-type {\n",
       "        vertical-align: middle;\n",
       "    }\n",
       "\n",
       "    .dataframe tbody tr th {\n",
       "        vertical-align: top;\n",
       "    }\n",
       "\n",
       "    .dataframe thead th {\n",
       "        text-align: right;\n",
       "    }\n",
       "</style>\n",
       "<table border=\"1\" class=\"dataframe\">\n",
       "  <thead>\n",
       "    <tr style=\"text-align: right;\">\n",
       "      <th></th>\n",
       "      <th>movie_id</th>\n",
       "      <th>title</th>\n",
       "      <th>tags</th>\n",
       "    </tr>\n",
       "  </thead>\n",
       "  <tbody>\n",
       "    <tr>\n",
       "      <th>0</th>\n",
       "      <td>19995</td>\n",
       "      <td>Avatar</td>\n",
       "      <td>22nd century, paraplegic marine dispatch moon ...</td>\n",
       "    </tr>\n",
       "    <tr>\n",
       "      <th>1</th>\n",
       "      <td>285</td>\n",
       "      <td>Pirates of the Caribbean: At World's End</td>\n",
       "      <td>captain barbossa, long believe dead, come back...</td>\n",
       "    </tr>\n",
       "    <tr>\n",
       "      <th>2</th>\n",
       "      <td>206647</td>\n",
       "      <td>Spectre</td>\n",
       "      <td>cryptic message bond’s past sends trail uncove...</td>\n",
       "    </tr>\n",
       "    <tr>\n",
       "      <th>3</th>\n",
       "      <td>49026</td>\n",
       "      <td>The Dark Knight Rises</td>\n",
       "      <td>follow death district attorney harvey dent, ba...</td>\n",
       "    </tr>\n",
       "    <tr>\n",
       "      <th>4</th>\n",
       "      <td>49529</td>\n",
       "      <td>John Carter</td>\n",
       "      <td>john carter war-weary, former military captain...</td>\n",
       "    </tr>\n",
       "  </tbody>\n",
       "</table>\n",
       "</div>"
      ],
      "text/plain": [
       "   movie_id                                     title  \\\n",
       "0     19995                                    Avatar   \n",
       "1       285  Pirates of the Caribbean: At World's End   \n",
       "2    206647                                   Spectre   \n",
       "3     49026                     The Dark Knight Rises   \n",
       "4     49529                               John Carter   \n",
       "\n",
       "                                                tags  \n",
       "0  22nd century, paraplegic marine dispatch moon ...  \n",
       "1  captain barbossa, long believe dead, come back...  \n",
       "2  cryptic message bond’s past sends trail uncove...  \n",
       "3  follow death district attorney harvey dent, ba...  \n",
       "4  john carter war-weary, former military captain...  "
      ]
     },
     "execution_count": 2,
     "metadata": {},
     "output_type": "execute_result"
    }
   ],
   "source": [
    "df.head()"
   ]
  },
  {
   "cell_type": "markdown",
   "id": "0d8f6a31",
   "metadata": {},
   "source": [
    "hmare paas ab cleaned dataset hai jisme teen col h movie_id for poster fetching , title for showing the movies , tags used for recommendation"
   ]
  },
  {
   "cell_type": "markdown",
   "id": "a654a663",
   "metadata": {},
   "source": [
    "# Model Training "
   ]
  },
  {
   "cell_type": "code",
   "execution_count": 3,
   "id": "2ba0ddc1",
   "metadata": {},
   "outputs": [],
   "source": [
    "from sklearn.feature_extraction.text import TfidfVectorizer\n",
    "tfidf = TfidfVectorizer(max_features = 5000)"
   ]
  },
  {
   "cell_type": "markdown",
   "id": "1f5a898e",
   "metadata": {},
   "source": [
    "hmne isme countvectorizer ki jgh tfidfvectorizer use kiya coz in that we are only focusing on no. of times a word occur but in this we are also focusing that is this word rare"
   ]
  },
  {
   "cell_type": "code",
   "execution_count": 4,
   "id": "1cea602f",
   "metadata": {},
   "outputs": [
    {
     "data": {
      "text/plain": [
       "(4806, 5000)"
      ]
     },
     "execution_count": 4,
     "metadata": {},
     "output_type": "execute_result"
    }
   ],
   "source": [
    "tfidf_matrix = tfidf.fit_transform(df['tags'])       # fit -> vocabulary of words banayega , transform -> numeric vector me convert karega hr tag ko\n",
    "tfidf_matrix.shape"
   ]
  },
  {
   "cell_type": "markdown",
   "id": "c1464cdc",
   "metadata": {},
   "source": [
    "ye ek sparse matrix bna rha h (most entries zero hogi kyuki most of the wors hr movie m nhi aye honge) jo ki hm cosine similarity m use kr skte h "
   ]
  },
  {
   "cell_type": "code",
   "execution_count": 5,
   "id": "8f7ec760",
   "metadata": {},
   "outputs": [
    {
     "data": {
      "text/plain": [
       "<Compressed Sparse Row sparse matrix of dtype 'float64'\n",
       "\twith 162412 stored elements and shape (4806, 5000)>"
      ]
     },
     "execution_count": 5,
     "metadata": {},
     "output_type": "execute_result"
    }
   ],
   "source": [
    "tfidf_matrix"
   ]
  },
  {
   "cell_type": "code",
   "execution_count": 6,
   "id": "a3f5f344",
   "metadata": {},
   "outputs": [
    {
     "data": {
      "text/plain": [
       "array(['000', '007', '10', ..., 'zoo', 'zooeydeschanel', 'zoëkravitz'],\n",
       "      dtype=object)"
      ]
     },
     "execution_count": 6,
     "metadata": {},
     "output_type": "execute_result"
    }
   ],
   "source": [
    "tfidf.get_feature_names_out()"
   ]
  },
  {
   "cell_type": "code",
   "execution_count": 7,
   "id": "50541dda",
   "metadata": {},
   "outputs": [],
   "source": [
    "from sklearn.metrics.pairwise import cosine_similarity\n",
    "cos_sim = cosine_similarity(tfidf_matrix)"
   ]
  },
  {
   "cell_type": "code",
   "execution_count": 8,
   "id": "363295f0",
   "metadata": {},
   "outputs": [
    {
     "data": {
      "text/plain": [
       "array([[1.        , 0.01681646, 0.02570707, ..., 0.02051888, 0.00574195,\n",
       "        0.        ],\n",
       "       [0.01681646, 1.        , 0.05508901, ..., 0.01462689, 0.        ,\n",
       "        0.        ],\n",
       "       [0.02570707, 0.05508901, 1.        , ..., 0.01533068, 0.        ,\n",
       "        0.        ],\n",
       "       ...,\n",
       "       [0.02051888, 0.01462689, 0.01533068, ..., 1.        , 0.02826751,\n",
       "        0.02887436],\n",
       "       [0.00574195, 0.        , 0.        , ..., 0.02826751, 1.        ,\n",
       "        0.03388662],\n",
       "       [0.        , 0.        , 0.        , ..., 0.02887436, 0.03388662,\n",
       "        1.        ]])"
      ]
     },
     "execution_count": 8,
     "metadata": {},
     "output_type": "execute_result"
    }
   ],
   "source": [
    "cos_sim"
   ]
  },
  {
   "cell_type": "markdown",
   "id": "1998e799",
   "metadata": {},
   "source": [
    "yha pr hmne cosine similarity use kiya (isme ek movie ka dusri movie k saath cosine distance calculate) jisse hm movie recommend kr paye <br>\n",
    "higher cos_sim indicates movie is similar to another movie"
   ]
  },
  {
   "cell_type": "code",
   "execution_count": 9,
   "id": "3e7ee735",
   "metadata": {},
   "outputs": [],
   "source": [
    "def recommend(movie):\n",
    "    index = df[df['title'] == movie].index[0]       # isse hm movie ka hmare data m index nikaal rhe h\n",
    "    distances = cos_sim[index]                      # isse hm us movie k saath sare movies k cosine similarity nikaal rhe h\n",
    "    movies_list = sorted(list(enumerate(distances)), reverse=True, key=lambda x: x[1])[1:6]  \n",
    "    # hmne distances ko sort krke top 5 movies ko rkha hai \n",
    "\n",
    "    for i in movies_list:\n",
    "        print(df.iloc[i[0]].title)      # iloc se hm index k basis pr movie title nikaal rhe h  , i -> tuple h ( index , cosine similarity value)\n"
   ]
  },
  {
   "cell_type": "markdown",
   "id": "d5905492",
   "metadata": {},
   "source": [
    "hm distances ko sort kr rhe h enumerate ka use krke kyuki agr hmne iske bina kiya to hm index pos loose kr denge phr correct movie ko predict nhi kr payenge , enumerate key value pair bna rha hai jisse indexx pos ki help se hm movie ko recommend kr payege <br>\n",
    "key ka use hmne distances k basis pe sort kre uske liye rkha hai wrna index k basis pe kr rha tha <br>\n",
    "reverse = True -> for descending "
   ]
  },
  {
   "cell_type": "code",
   "execution_count": 10,
   "id": "5f64338e",
   "metadata": {},
   "outputs": [
    {
     "name": "stdout",
     "output_type": "stream",
     "text": [
      "Battle: Los Angeles\n",
      "Aliens\n",
      "Falcon Rising\n",
      "Apollo 18\n",
      "Lifeforce\n"
     ]
    }
   ],
   "source": [
    "recommend('Avatar')"
   ]
  },
  {
   "cell_type": "code",
   "execution_count": 11,
   "id": "2bb4abaf",
   "metadata": {},
   "outputs": [
    {
     "name": "stdout",
     "output_type": "stream",
     "text": [
      "The Dark Knight\n",
      "The Dark Knight Rises\n",
      "Batman Returns\n",
      "Batman\n",
      "Batman v Superman: Dawn of Justice\n"
     ]
    }
   ],
   "source": [
    "recommend('Batman Begins')"
   ]
  },
  {
   "cell_type": "code",
   "execution_count": 12,
   "id": "5da6371e",
   "metadata": {},
   "outputs": [
    {
     "name": "stdout",
     "output_type": "stream",
     "text": [
      "Superman II\n",
      "Superman IV: The Quest for Peace\n",
      "Superman III\n",
      "Superman\n",
      "X2\n"
     ]
    }
   ],
   "source": [
    "recommend('Superman Returns')"
   ]
  }
 ],
 "metadata": {
  "kernelspec": {
   "display_name": "base",
   "language": "python",
   "name": "python3"
  },
  "language_info": {
   "codemirror_mode": {
    "name": "ipython",
    "version": 3
   },
   "file_extension": ".py",
   "mimetype": "text/x-python",
   "name": "python",
   "nbconvert_exporter": "python",
   "pygments_lexer": "ipython3",
   "version": "3.13.5"
  }
 },
 "nbformat": 4,
 "nbformat_minor": 5
}
